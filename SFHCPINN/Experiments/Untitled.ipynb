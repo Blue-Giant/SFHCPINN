{
 "cells": [
  {
   "cell_type": "code",
   "execution_count": 1,
   "id": "06735fe6",
   "metadata": {},
   "outputs": [],
   "source": [
    "import torch\n",
    "import numpy as np\n",
    "from scipy.special import erfc\n",
    "\n",
    "\n",
    "def erfc1(x):\n",
    "    tmp = x.cpu().detach().numpy()\n",
    "    z = erfc(tmp)\n",
    "    z = torch.from_numpy(z)\n",
    "    return z"
   ]
  },
  {
   "cell_type": "markdown",
   "id": "42149cb8",
   "metadata": {},
   "source": [
    "### 公式16"
   ]
  },
  {
   "cell_type": "code",
   "execution_count": 15,
   "id": "1bc2acc1",
   "metadata": {},
   "outputs": [],
   "source": [
    "C0 =9\n",
    "ws=0.0001\n",
    "ds = 0.0001\n",
    "temp1 = lambda x, t: torch.div(x - ws * t, torch.sqrt(4 * ds * t))\n",
    "temp2 = lambda x, t: torch.div(x + ws * t, torch.sqrt(4 * ds * t))\n",
    "temp10 = lambda x, t: torch.exp(- ws * t/ds)\n",
    "temp11 = lambda x, t: 0.5 * C0 * (erfc1(temp2(x, t)) + torch.mul(temp10(x, t), erfc1(temp1(x, t))))"
   ]
  },
  {
   "cell_type": "code",
   "execution_count": 8,
   "id": "422ab14d",
   "metadata": {},
   "outputs": [],
   "source": [
    "region_l = 0\n",
    "region_r = 1\n",
    "init_time = 0\n",
    "end_time = 1\n",
    "test"
   ]
  },
  {
   "cell_type": "code",
   "execution_count": 17,
   "id": "e7d818d3",
   "metadata": {},
   "outputs": [],
   "source": [
    "def gen_testdata(region_l, region_r, init_time, end_time, test_bach_size):\n",
    "    test_xy_bach_x = np.linspace(region_l, region_r, test_bach_size).reshape(-1, 1)\n",
    "    test_xy_bach_y = np.linspace(init_time, end_time, test_bach_size).reshape(-1, 1)\n",
    "    x_repeat = np.repeat(test_xy_bach_x, test_bach_size).reshape(-1, 1)\n",
    "    t2 = list(test_xy_bach_y)\n",
    "    t1 = list(test_xy_bach_y)\n",
    "    for i in range(test_bach_size - 1):\n",
    "        t2.extend(t1)\n",
    "    t_repeat = np.array(t2)\n",
    "    test_xy_bach = np.concatenate([x_repeat, t_repeat], -1)\n",
    "    test_xy_torch = torch.from_numpy(test_xy_bach)\n",
    "    test_x_torch = torch.from_numpy(x_repeat)\n",
    "    test_y_torch = torch.from_numpy(t_repeat)\n",
    "    return test_x_torch, test_y_torch"
   ]
  },
  {
   "cell_type": "code",
   "execution_count": 18,
   "id": "5ce94324",
   "metadata": {},
   "outputs": [],
   "source": [
    "x_repeat, t_repeat = gen_testdata(region_l = region_l, region_r=region_r, init_time=init_time, end_time=end_time, test_bach_size=100)"
   ]
  },
  {
   "cell_type": "code",
   "execution_count": 24,
   "id": "5a3e7c9b",
   "metadata": {},
   "outputs": [],
   "source": [
    "x_repeat10, t_repeat100 = gen_testdata(region_l = region_l, region_r=10, init_time=init_time, end_time=100, test_bach_size=100)"
   ]
  },
  {
   "cell_type": "code",
   "execution_count": 19,
   "id": "56b8eec9",
   "metadata": {},
   "outputs": [
    {
     "data": {
      "text/plain": [
       "tensor([[   nan],\n",
       "        [8.9547],\n",
       "        [8.9099],\n",
       "        ...,\n",
       "        [0.0000],\n",
       "        [0.0000],\n",
       "        [0.0000]], dtype=torch.float64)"
      ]
     },
     "execution_count": 19,
     "metadata": {},
     "output_type": "execute_result"
    }
   ],
   "source": [
    "temp11(x_repeat,t_repeat)"
   ]
  },
  {
   "cell_type": "code",
   "execution_count": 25,
   "id": "f4d64d5d",
   "metadata": {
    "scrolled": true
   },
   "outputs": [
    {
     "data": {
      "text/plain": [
       "tensor([[   nan],\n",
       "        [6.1226],\n",
       "        [5.0655],\n",
       "        ...,\n",
       "        [0.0000],\n",
       "        [0.0000],\n",
       "        [0.0000]], dtype=torch.float64)"
      ]
     },
     "execution_count": 25,
     "metadata": {},
     "output_type": "execute_result"
    }
   ],
   "source": [
    "temp11(x_repeat10,t_repeat100)"
   ]
  },
  {
   "cell_type": "code",
   "execution_count": 46,
   "id": "a61f583d",
   "metadata": {},
   "outputs": [
    {
     "data": {
      "text/plain": [
       "1.0"
      ]
     },
     "execution_count": 46,
     "metadata": {},
     "output_type": "execute_result"
    }
   ],
   "source": [
    "erfc(0)"
   ]
  },
  {
   "cell_type": "markdown",
   "id": "82b7dc93",
   "metadata": {},
   "source": [
    "### 论文的解"
   ]
  },
  {
   "cell_type": "code",
   "execution_count": 35,
   "id": "f7d26fb9",
   "metadata": {},
   "outputs": [],
   "source": [
    "        pi = np.pi\n",
    "        # A3的第一项\n",
    "        temp1 = lambda x, t: torch.div(x - ws * t, torch.sqrt(4 * ds * t))\n",
    "        temp2 = lambda x, t: torch.div(x + ws * t, torch.sqrt(4 * ds * t))\n",
    "        temp3 = lambda x, t: 0.5 * erfc1(temp1(x, t)) + 0.5 * torch.exp(ws * x / ds) * erfc1(temp2(x, t))\n",
    "\n",
    "        # A3的第二项\n",
    "        temp4 = lambda x, t: 2 + (ws/ds) * (2*region_r-x) + (ws*ws/ds) * t\n",
    "        temp5 = lambda x, t: np.exp(ws*region_r/ds) * erfc1(torch.div(2*region_r-x+ws*t,torch.sqrt(4*ds*t)))\n",
    "        temp6 = lambda x, t: 0.5 * torch.mul(temp4(x, t), temp5(x, t))\n",
    "\n",
    "        # A3的第三项\n",
    "        temp7 = lambda x, t: ws * torch.sqrt(t/(pi*ds))\n",
    "        temp8 = lambda x, t: torch.mul(1/(4*ds*t), torch.square(2*region_r- x + ws * t))\n",
    "        temp9 = lambda x, t: torch.mul(temp7(x, t), torch.exp(ws*region_r/ds - temp8(x, t)))\n",
    "        Axt = lambda x, t: temp3(x, t) + temp6(x, t) + temp9(x, t)"
   ]
  },
  {
   "cell_type": "code",
   "execution_count": 31,
   "id": "5b9d64d5",
   "metadata": {},
   "outputs": [],
   "source": [
    "u_true = lambda x, t: Ci + (C0 - Ci) * Axt(x, t)"
   ]
  },
  {
   "cell_type": "code",
   "execution_count": 32,
   "id": "132e0cb0",
   "metadata": {},
   "outputs": [],
   "source": [
    "Ci=0\n",
    "C0=8"
   ]
  },
  {
   "cell_type": "code",
   "execution_count": 41,
   "id": "01e9befe",
   "metadata": {},
   "outputs": [],
   "source": [
    "u_01=u_true(x_repeat,t_repeat)"
   ]
  },
  {
   "cell_type": "code",
   "execution_count": 39,
   "id": "129a95b4",
   "metadata": {},
   "outputs": [],
   "source": [
    "u_011 = u_true(x_repeat10,t_repeat100)"
   ]
  },
  {
   "cell_type": "code",
   "execution_count": 44,
   "id": "5c317a48",
   "metadata": {},
   "outputs": [
    {
     "data": {
      "text/plain": [
       "tensor([133])"
      ]
     },
     "execution_count": 44,
     "metadata": {},
     "output_type": "execute_result"
    }
   ],
   "source": [
    "sum(u_01 == u_011)"
   ]
  },
  {
   "cell_type": "code",
   "execution_count": 45,
   "id": "edf45b16",
   "metadata": {},
   "outputs": [
    {
     "data": {
      "text/plain": [
       "10000"
      ]
     },
     "execution_count": 45,
     "metadata": {},
     "output_type": "execute_result"
    }
   ],
   "source": [
    "len(u_01)"
   ]
  },
  {
   "cell_type": "code",
   "execution_count": null,
   "id": "9d3fcd1e",
   "metadata": {},
   "outputs": [],
   "source": []
  },
  {
   "cell_type": "code",
   "execution_count": 9,
   "id": "d47296c0",
   "metadata": {},
   "outputs": [
    {
     "ename": "NameError",
     "evalue": "name 'test_bach_size' is not defined",
     "output_type": "error",
     "traceback": [
      "\u001b[0;31m---------------------------------------------------------------------------\u001b[0m",
      "\u001b[0;31mNameError\u001b[0m                                 Traceback (most recent call last)",
      "Cell \u001b[0;32mIn[9], line 1\u001b[0m\n\u001b[0;32m----> 1\u001b[0m test_xy_bach_x \u001b[38;5;241m=\u001b[39m np\u001b[38;5;241m.\u001b[39mlinspace(region_l, region_r, \u001b[43mtest_bach_size\u001b[49m)\u001b[38;5;241m.\u001b[39mreshape(\u001b[38;5;241m-\u001b[39m\u001b[38;5;241m1\u001b[39m, \u001b[38;5;241m1\u001b[39m)\n\u001b[1;32m      2\u001b[0m test_xy_bach_y \u001b[38;5;241m=\u001b[39m np\u001b[38;5;241m.\u001b[39mlinspace(init_time, end_time, test_bach_size)\u001b[38;5;241m.\u001b[39mreshape(\u001b[38;5;241m-\u001b[39m\u001b[38;5;241m1\u001b[39m, \u001b[38;5;241m1\u001b[39m)\n\u001b[1;32m      3\u001b[0m x_repeat \u001b[38;5;241m=\u001b[39m np\u001b[38;5;241m.\u001b[39mrepeat(test_xy_bach_x, test_bach_size)\u001b[38;5;241m.\u001b[39mreshape(\u001b[38;5;241m-\u001b[39m\u001b[38;5;241m1\u001b[39m, \u001b[38;5;241m1\u001b[39m)\n",
      "\u001b[0;31mNameError\u001b[0m: name 'test_bach_size' is not defined"
     ]
    }
   ],
   "source": [
    "test_xy_bach_x = np.linspace(region_l, region_r, test_bach_size).reshape(-1, 1)\n",
    "test_xy_bach_y = np.linspace(init_time, end_time, test_bach_size).reshape(-1, 1)\n",
    "x_repeat = np.repeat(test_xy_bach_x, test_bach_size).reshape(-1, 1)\n",
    "t2 = list(test_xy_bach_y)\n",
    "t1 = list(test_xy_bach_y)\n",
    "for i in range(test_bach_size - 1):\n",
    "    t2.extend(t1)\n",
    "t_repeat = np.array(t2)\n",
    "test_xy_bach = np.concatenate([x_repeat, t_repeat], -1)"
   ]
  },
  {
   "cell_type": "code",
   "execution_count": null,
   "id": "ade0c828",
   "metadata": {},
   "outputs": [],
   "source": []
  },
  {
   "cell_type": "code",
   "execution_count": 5,
   "id": "a1ff8a2d",
   "metadata": {},
   "outputs": [],
   "source": [
    "        region_l = 0.0\n",
    "        region_r = 10.0\n",
    "        init_time = 0.0\n",
    "        end_time = 5\n",
    "        ds = 1 / 128\n",
    "        ws = 1\n",
    "        Ci = 1\n",
    "        C0 = 2\n",
    "        temp1 = lambda x, t: torch.div(x - ws * t, torch.sqrt(4 * ds * t))\n",
    "        temp2 = lambda x, t: torch.div(x + ws * t, torch.sqrt(4 * ds * t))\n",
    "        temp3 = lambda x, t: 0.5 * erfc1(temp1(x, t)) + 0.5 * torch.exp(ws * x / ds) * erfc1(temp2(x, t))\n",
    "        u_init = lambda x, t: torch.ones_like(x) * Ci\n",
    "        u_left = lambda x, t: torch.ones_like(t) * C0\n",
    "        u_right = lambda x, t: torch.zeros_like(t)\n",
    "        u_true = lambda x, t: Ci + (Ci - C0) * temp3(x, t)"
   ]
  },
  {
   "cell_type": "code",
   "execution_count": 16,
   "id": "e748afa6",
   "metadata": {},
   "outputs": [],
   "source": [
    "test_bach_size = 100\n",
    "size2test = 100\n",
    "\n",
    "# ---------------------------------------------------------------------------------#\n",
    "test_xy_bach_x = np.linspace(region_l, region_r, test_bach_size).reshape(-1, 1)\n",
    "test_xy_bach_y = np.linspace(init_time, end_time, test_bach_size).reshape(-1, 1)\n",
    "x_repeat = np.repeat(test_xy_bach_x, test_bach_size).reshape(-1, 1)\n",
    "t2 = list(test_xy_bach_y)\n",
    "t1 = list(test_xy_bach_y)\n",
    "for i in range(test_bach_size - 1):\n",
    "    t2.extend(t1)\n",
    "    t_repeat = np.array(t2)\n",
    "test_xy_bach = np.concatenate([x_repeat, t_repeat], -1)"
   ]
  },
  {
   "cell_type": "code",
   "execution_count": 22,
   "id": "45043f5e",
   "metadata": {},
   "outputs": [],
   "source": [
    "test_xy_torch = torch.from_numpy(test_xy_bach)\n",
    "x_repeat = torch.from_numpy(x_repeat)\n",
    "t_repeat = torch.from_numpy(t_repeat)"
   ]
  },
  {
   "cell_type": "code",
   "execution_count": 28,
   "id": "c1e2e693",
   "metadata": {},
   "outputs": [],
   "source": [
    "a=u_true(x_repeat,t_repeat)"
   ]
  },
  {
   "cell_type": "code",
   "execution_count": 31,
   "id": "0e9a4e1d",
   "metadata": {},
   "outputs": [],
   "source": [
    "UNN2test = torch.nan_to_num(input=a, nan=0.0)"
   ]
  },
  {
   "cell_type": "code",
   "execution_count": 48,
   "id": "7991f660",
   "metadata": {},
   "outputs": [],
   "source": [
    "xt = torch.cat([x_repeat,t_repeat],-1)"
   ]
  },
  {
   "cell_type": "code",
   "execution_count": 1,
   "id": "a6573752",
   "metadata": {},
   "outputs": [],
   "source": [
    "import torch"
   ]
  },
  {
   "cell_type": "code",
   "execution_count": 3,
   "id": "100d57ba",
   "metadata": {},
   "outputs": [],
   "source": [
    "a = torch.linspace(0,10,10)"
   ]
  },
  {
   "cell_type": "code",
   "execution_count": 4,
   "id": "b8d5956d",
   "metadata": {},
   "outputs": [
    {
     "data": {
      "text/plain": [
       "tensor([nan, 1., 1., 1., 1., 1., 1., 1., 1., 1.])"
      ]
     },
     "execution_count": 4,
     "metadata": {},
     "output_type": "execute_result"
    }
   ],
   "source": [
    "a/abs(a)"
   ]
  }
 ],
 "metadata": {
  "kernelspec": {
   "display_name": "Python 3 (ipykernel)",
   "language": "python",
   "name": "python3"
  },
  "language_info": {
   "codemirror_mode": {
    "name": "ipython",
    "version": 3
   },
   "file_extension": ".py",
   "mimetype": "text/x-python",
   "name": "python",
   "nbconvert_exporter": "python",
   "pygments_lexer": "ipython3",
   "version": "3.9.15"
  }
 },
 "nbformat": 4,
 "nbformat_minor": 5
}
